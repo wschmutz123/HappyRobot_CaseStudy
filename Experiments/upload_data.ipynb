{
 "cells": [
  {
   "cell_type": "code",
   "execution_count": null,
   "id": "6809b21c",
   "metadata": {},
   "outputs": [
    {
     "name": "stdout",
     "output_type": "stream",
     "text": [
      "loads.csv created successfully!\n"
     ]
    }
   ],
   "source": [
    "import csv\n",
    "\n",
    "# Example data\n",
    "loads = [\n",
    "    [1, \"Dallas\", \"Chicago\", \"2025-09-20 08:00\", \"2025-09-22 18:00\", \"Van\", 1500, \"Handle with care\", 20000, \"Furniture\", 10, 800, \"10x5x6\"],\n",
    "    [2, \"Atlanta\", \"New York\", \"2025-09-21 09:00\", \"2025-09-24 20:00\", \"Flatbed\", 2000, \"Fragile items\", 10000, \"Electronics\", 5, 900, \"12x6x6\"],\n",
    "    [3, \"Los Angeles\", \"Houston\", \"2025-09-22 07:00\", \"2025-09-25 17:00\", \"Reefer\", 1800, \"Keep frozen\", 15000, \"Food\", 20, 1400, \"8x4x5\"],\n",
    "    [4, \"Miami\", \"Orlando\", \"2025-09-23 10:00\", \"2025-09-23 16:00\", \"Van\", 800, \"Small load\", 5000, \"Clothing\", 50, 230, \"5x4x4\"],\n",
    "    [5, \"Seattle\", \"Denver\", \"2025-09-24 12:00\", \"2025-09-26 19:00\", \"Flatbed\", 2500, \"Oversized load\", 30000, \"Steel\", 15, 1300, \"15x8x8\"]\n",
    "]\n",
    "\n",
    "# Header\n",
    "header = [\"load_id\",\"origin\",\"destination\",\"pickup_datetime\",\"delivery_datetime\",\"equipment_type\",\"loadboard_rate\",\"notes\",\"weight\",\"commodity_type\",\"num_of_pieces\",\"miles\",\"dimensions\"]\n",
    "\n",
    "# Write CSV\n",
    "with open(\"../Data/loads.csv\", \"w\", newline=\"\") as f:\n",
    "    writer = csv.writer(f)\n",
    "    writer.writerow(header)\n",
    "    writer.writerows(loads)\n",
    "\n",
    "print(\"loads.csv created successfully!\")\n"
   ]
  }
 ],
 "metadata": {
  "kernelspec": {
   "display_name": "base",
   "language": "python",
   "name": "python3"
  },
  "language_info": {
   "codemirror_mode": {
    "name": "ipython",
    "version": 3
   },
   "file_extension": ".py",
   "mimetype": "text/x-python",
   "name": "python",
   "nbconvert_exporter": "python",
   "pygments_lexer": "ipython3",
   "version": "3.12.9"
  }
 },
 "nbformat": 4,
 "nbformat_minor": 5
}
